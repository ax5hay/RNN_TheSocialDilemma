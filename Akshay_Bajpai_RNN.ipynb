{
 "cells": [
  {
   "cell_type": "markdown",
   "metadata": {},
   "source": [
    "**Submitted by : Akshay Bajpai**\n",
    "\n",
    "**subject : Deep Learning & Intelligent Systems**\n",
    "\n",
    "**Study group: KNSSh-11f**\n",
    "\n",
    "**Institute: ICNI**"
   ]
  },
  {
   "cell_type": "code",
   "execution_count": 214,
   "metadata": {
    "_cell_guid": "f98879dd-5ad9-47a7-a158-fe748ef2a725",
    "_uuid": "f80900ff-d042-4721-b23a-b7f113b7cadb",
    "execution": {
     "iopub.execute_input": "2020-09-30T14:51:25.523913Z",
     "iopub.status.busy": "2020-09-30T14:51:25.523241Z",
     "iopub.status.idle": "2020-09-30T14:51:31.066094Z",
     "shell.execute_reply": "2020-09-30T14:51:31.065286Z"
    },
    "papermill": {
     "duration": 5.557561,
     "end_time": "2020-09-30T14:51:31.066218",
     "exception": false,
     "start_time": "2020-09-30T14:51:25.508657",
     "status": "completed"
    },
    "tags": []
   },
   "outputs": [],
   "source": [
    "import tensorflow as tf\n",
    "from tensorflow.keras.preprocessing.sequence import pad_sequences\n",
    "from tensorflow.keras.layers import Embedding, LSTM, Dense, Bidirectional\n",
    "from tensorflow.keras.preprocessing.text import Tokenizer\n",
    "from keras.preprocessing.text import Tokenizer\n",
    "from keras.layers import SimpleRNN, Embedding, Dense, LSTM\n",
    "from keras.models import Sequential\n",
    "from tensorflow.keras.models import Sequential\n",
    "from tensorflow.keras.optimizers import Adam\n",
    "from tensorflow.keras.preprocessing.text import Tokenizer\n",
    "from tensorflow.keras.preprocessing.sequence import pad_sequences\n",
    "import numpy as np\n",
    "import pandas as pd\n",
    "import re\n",
    "import matplotlib.pyplot as plt"
   ]
  },
  {
   "cell_type": "code",
   "execution_count": 215,
   "metadata": {},
   "outputs": [
    {
     "data": {
      "text/html": [
       "<div>\n",
       "<style scoped>\n",
       "    .dataframe tbody tr th:only-of-type {\n",
       "        vertical-align: middle;\n",
       "    }\n",
       "\n",
       "    .dataframe tbody tr th {\n",
       "        vertical-align: top;\n",
       "    }\n",
       "\n",
       "    .dataframe thead th {\n",
       "        text-align: right;\n",
       "    }\n",
       "</style>\n",
       "<table border=\"1\" class=\"dataframe\">\n",
       "  <thead>\n",
       "    <tr style=\"text-align: right;\">\n",
       "      <th></th>\n",
       "      <th>text</th>\n",
       "      <th>Sentiment</th>\n",
       "    </tr>\n",
       "  </thead>\n",
       "  <tbody>\n",
       "    <tr>\n",
       "      <th>0</th>\n",
       "      <td>@musicmadmarc @SocialDilemma_ @netflix @Facebo...</td>\n",
       "      <td>Neutral</td>\n",
       "    </tr>\n",
       "    <tr>\n",
       "      <th>1</th>\n",
       "      <td>@musicmadmarc @SocialDilemma_ @netflix @Facebo...</td>\n",
       "      <td>Neutral</td>\n",
       "    </tr>\n",
       "    <tr>\n",
       "      <th>2</th>\n",
       "      <td>Go watch “The Social Dilemma” on Netflix!\\n\\nI...</td>\n",
       "      <td>Positive</td>\n",
       "    </tr>\n",
       "    <tr>\n",
       "      <th>3</th>\n",
       "      <td>I watched #TheSocialDilemma last night. I’m sc...</td>\n",
       "      <td>Negative</td>\n",
       "    </tr>\n",
       "    <tr>\n",
       "      <th>4</th>\n",
       "      <td>The problem of me being on my phone most the t...</td>\n",
       "      <td>Positive</td>\n",
       "    </tr>\n",
       "  </tbody>\n",
       "</table>\n",
       "</div>"
      ],
      "text/plain": [
       "                                                text Sentiment\n",
       "0  @musicmadmarc @SocialDilemma_ @netflix @Facebo...   Neutral\n",
       "1  @musicmadmarc @SocialDilemma_ @netflix @Facebo...   Neutral\n",
       "2  Go watch “The Social Dilemma” on Netflix!\\n\\nI...  Positive\n",
       "3  I watched #TheSocialDilemma last night. I’m sc...  Negative\n",
       "4  The problem of me being on my phone most the t...  Positive"
      ]
     },
     "execution_count": 215,
     "metadata": {},
     "output_type": "execute_result"
    }
   ],
   "source": [
    "file_path = 'TheSocialDilemma.csv'\n",
    "data = pd.read_csv(file_path)\n",
    "data = data[['text', 'Sentiment']]\n",
    "data.head()"
   ]
  },
  {
   "cell_type": "code",
   "execution_count": 216,
   "metadata": {
    "execution": {
     "iopub.execute_input": "2020-09-30T14:51:31.127240Z",
     "iopub.status.busy": "2020-09-30T14:51:31.126589Z",
     "iopub.status.idle": "2020-09-30T14:51:31.536738Z",
     "shell.execute_reply": "2020-09-30T14:51:31.537626Z"
    },
    "papermill": {
     "duration": 0.436978,
     "end_time": "2020-09-30T14:51:31.537846",
     "exception": false,
     "start_time": "2020-09-30T14:51:31.100868",
     "status": "completed"
    },
    "tags": []
   },
   "outputs": [
    {
     "name": "stdout",
     "output_type": "stream",
     "text": [
      "X_train shape: (14601,)\n",
      "y_train shape: (14601,)\n",
      "X_test shape: (3651,)\n",
      "y_test shape: (3651,)\n",
      "Length of text: 14601 characters\n",
      "Max tweet length: 152\n",
      "Min tweet length: 22\n",
      "Average tweet length: 113.8436335744028\n"
     ]
    }
   ],
   "source": [
    "\n",
    "\n",
    "X = data['text']\n",
    "y = data['Sentiment'].map({'Negative':0, 'Neutral':1, 'Positive':2})\n",
    "\n",
    "train_size = int(len(data)*0.8)\n",
    "X_train, y_train = X[:train_size], y[:train_size]\n",
    "X_test, y_test = X[train_size:], y[train_size:]\n",
    "print(\"X_train shape:\", X_train.shape)\n",
    "print(\"y_train shape:\", y_train.shape)\n",
    "print(\"X_test shape:\", X_test.shape)\n",
    "print(\"y_test shape:\", y_test.shape)\n",
    "\n",
    "print ('Length of text: {} characters'.format(len(X_train)))\n",
    "\n",
    "print(\"Max tweet length:\", X.map(len).max())\n",
    "print(\"Min tweet length:\", X.map(len).min())\n",
    "print(\"Average tweet length:\", X.map(len).mean())"
   ]
  },
  {
   "cell_type": "code",
   "execution_count": 217,
   "metadata": {
    "execution": {
     "iopub.execute_input": "2020-09-30T14:51:31.590884Z",
     "iopub.status.busy": "2020-09-30T14:51:31.585654Z",
     "iopub.status.idle": "2020-09-30T14:51:32.632101Z",
     "shell.execute_reply": "2020-09-30T14:51:32.631442Z"
    },
    "papermill": {
     "duration": 1.067575,
     "end_time": "2020-09-30T14:51:32.632213",
     "exception": false,
     "start_time": "2020-09-30T14:51:31.564638",
     "status": "completed"
    },
    "tags": []
   },
   "outputs": [
    {
     "name": "stdout",
     "output_type": "stream",
     "text": [
      "Shape of train_padded: (14601, 90)\n",
      "Shape of test_padded: (3651, 90)\n"
     ]
    }
   ],
   "source": [
    "vocab_size = 8000\n",
    "embedding_dim = 32\n",
    "max_length = 90\n",
    "tokenizer = Tokenizer(vocab_size)\n",
    "tokenizer.fit_on_texts(X_train)\n",
    "word_index = tokenizer.word_index\n",
    "\n",
    "train_sequences = tokenizer.texts_to_sequences(X_train)\n",
    "train_padded = pad_sequences(train_sequences, maxlen=max_length, padding='pre', truncating='pre')\n",
    "test_sequences = tokenizer.texts_to_sequences(X_test)\n",
    "test_padded = pad_sequences(test_sequences, maxlen=max_length, padding='pre', truncating='pre')\n",
    "print(\"Shape of train_padded:\", train_padded.shape)\n",
    "print(\"Shape of test_padded:\", test_padded.shape)\n",
    "\n",
    "training_samples = int(5572 * .8)\n",
    "validation_samples = int(5572 - training_samples)\n"
   ]
  },
  {
   "cell_type": "code",
   "execution_count": 249,
   "metadata": {},
   "outputs": [
    {
     "name": "stdout",
     "output_type": "stream",
     "text": [
      "Epoch 1/10\n",
      "195/195 [==============================] - 6s 25ms/step - loss: -2.6352 - acc: 0.3505 - val_loss: -4.0471 - val_acc: 0.3338\n",
      "Epoch 2/10\n",
      "195/195 [==============================] - 4s 22ms/step - loss: -4.6783 - acc: 0.3503 - val_loss: -5.8983 - val_acc: 0.3338\n",
      "Epoch 3/10\n",
      "195/195 [==============================] - 4s 22ms/step - loss: -6.4521 - acc: 0.3503 - val_loss: -7.7707 - val_acc: 0.3338\n",
      "Epoch 4/10\n",
      "195/195 [==============================] - 4s 22ms/step - loss: -8.2081 - acc: 0.3503 - val_loss: -9.6348 - val_acc: 0.3338\n",
      "Epoch 5/10\n",
      "195/195 [==============================] - 4s 23ms/step - loss: -10.2806 - acc: 0.3539 - val_loss: -11.3721 - val_acc: 0.3245\n",
      "Epoch 6/10\n",
      "195/195 [==============================] - 4s 22ms/step - loss: -12.9662 - acc: 0.3628 - val_loss: -14.2414 - val_acc: 0.3461\n",
      "Epoch 7/10\n",
      "195/195 [==============================] - 4s 23ms/step - loss: -15.5762 - acc: 0.3762 - val_loss: -16.8874 - val_acc: 0.3591\n",
      "Epoch 8/10\n",
      "195/195 [==============================] - 4s 23ms/step - loss: -19.0854 - acc: 0.3965 - val_loss: -19.2454 - val_acc: 0.3625\n",
      "Epoch 9/10\n",
      "195/195 [==============================] - 4s 23ms/step - loss: -22.6007 - acc: 0.4187 - val_loss: -23.5972 - val_acc: 0.4033\n",
      "Epoch 10/10\n",
      "195/195 [==============================] - 4s 22ms/step - loss: -25.8288 - acc: 0.4357 - val_loss: -26.6096 - val_acc: 0.4012\n"
     ]
    }
   ],
   "source": [
    "model = Sequential()\n",
    "model.add(Embedding(vocab_size, 32))\n",
    "model.add(LSTM(32))\n",
    "model.add(Dense(1, activation='sigmoid'))\n",
    "model.compile(optimizer='rmsprop', loss='binary_crossentropy', metrics=['acc'])\n",
    "history = model.fit(train_padded, y_train, epochs=10,\n",
    "                         batch_size=60, validation_split=0.2)"
   ]
  },
  {
   "cell_type": "code",
   "execution_count": 248,
   "metadata": {},
   "outputs": [
    {
     "data": {
      "image/png": "[encoded data removed]",
      "text/plain": [
       "<Figure size 432x288 with 1 Axes>"
      ]
     },
     "metadata": {
      "needs_background": "light"
     },
     "output_type": "display_data"
    },
    {
     "data": {
      "image/png": "[encoded data removed]",
      "text/plain": [
       "<Figure size 432x288 with 1 Axes>"
      ]
     },
     "metadata": {
      "needs_background": "light"
     },
     "output_type": "display_data"
    }
   ],
   "source": [
    "acc = history.history['acc']\n",
    "val_acc = history.history['val_acc']\n",
    "loss = history.history['loss']\n",
    "val_loss = history.history['val_loss']\n",
    "epochs = range(len(acc))\n",
    "plt.plot(epochs, acc, '-', color='orange', label='training acc')\n",
    "plt.plot(epochs, val_acc, '-', color='blue', label='validation acc')\n",
    "plt.title('Training and validation accuracy')\n",
    "plt.legend()\n",
    "plt.show()\n",
    "\n",
    "plt.plot(epochs, loss, '-', color='orange', label='loss')\n",
    "plt.plot(epochs, val_loss,  '-', color='blue', label='val_loss')\n",
    "plt.title('Training and validation loss')\n",
    "plt.legend()\n",
    "plt.show()"
   ]
  },
  {
   "cell_type": "code",
   "execution_count": 218,
   "metadata": {
    "execution": {
     "iopub.execute_input": "2020-09-30T14:51:32.689296Z",
     "iopub.status.busy": "2020-09-30T14:51:32.688426Z",
     "iopub.status.idle": "2020-09-30T15:06:32.111690Z",
     "shell.execute_reply": "2020-09-30T15:06:32.112199Z"
    },
    "papermill": {
     "duration": 899.44004,
     "end_time": "2020-09-30T15:06:32.112370",
     "exception": false,
     "start_time": "2020-09-30T14:51:32.672330",
     "status": "completed"
    },
    "tags": []
   },
   "outputs": [
    {
     "name": "stdout",
     "output_type": "stream",
     "text": [
      "Model: \"sequential_43\"\n",
      "_________________________________________________________________\n",
      " Layer (type)                Output Shape              Param #   \n",
      "=================================================================\n",
      " embedding_43 (Embedding)    (None, 90, 32)            256000    \n",
      "                                                                 \n",
      " lstm_56 (LSTM)              (None, 100)               53200     \n",
      "                                                                 \n",
      " dense_86 (Dense)            (None, 45)                4545      \n",
      "                                                                 \n",
      " dropout_37 (Dropout)        (None, 45)                0         \n",
      "                                                                 \n",
      " dense_87 (Dense)            (None, 3)                 138       \n",
      "                                                                 \n",
      "=================================================================\n",
      "Total params: 313,883\n",
      "Trainable params: 313,883\n",
      "Non-trainable params: 0\n",
      "_________________________________________________________________\n"
     ]
    }
   ],
   "source": [
    "model = Sequential([\n",
    "                    tf.keras.layers.Embedding(vocab_size, embedding_dim, input_length=max_length),\n",
    "                    tf.keras.layers.LSTM(100),\n",
    "                    tf.keras.layers.Dense(max_length/2, activation='relu', kernel_regularizer=tf.keras.regularizers.l2(0.001)),\n",
    "                    tf.keras.layers.Dropout(0.4),\n",
    "                    tf.keras.layers.Dense(3, activation='softmax')\n",
    "])\n",
    "model.summary()\n",
    "\n",
    "lr_schedule = tf.keras.optimizers.schedules.ExponentialDecay(\n",
    "    0.01,\n",
    "    decay_steps=10000,\n",
    "    decay_rate=0.95,\n",
    "    staircase=True\n",
    ")\n"
   ]
  },
  {
   "cell_type": "code",
   "execution_count": 219,
   "metadata": {},
   "outputs": [],
   "source": [
    "model.compile(optimizer=tf.keras.optimizers.RMSprop(learning_rate = lr_schedule),\n",
    "              loss='sparse_categorical_crossentropy',\n",
    "              metrics=['accuracy'])"
   ]
  },
  {
   "cell_type": "code",
   "execution_count": 220,
   "metadata": {},
   "outputs": [
    {
     "name": "stdout",
     "output_type": "stream",
     "text": [
      "Epoch 1/10\n",
      "457/457 [==============================] - 15s 30ms/step - loss: 0.6308 - accuracy: 0.7684 - val_loss: 0.3882 - val_accuracy: 0.8622\n",
      "Epoch 2/10\n",
      "457/457 [==============================] - 13s 29ms/step - loss: 0.2703 - accuracy: 0.9241 - val_loss: 0.2801 - val_accuracy: 0.9293\n",
      "Epoch 3/10\n",
      "457/457 [==============================] - 13s 28ms/step - loss: 0.1977 - accuracy: 0.9504 - val_loss: 0.3340 - val_accuracy: 0.9206\n",
      "Epoch 4/10\n",
      "457/457 [==============================] - 13s 28ms/step - loss: 0.1570 - accuracy: 0.9637 - val_loss: 0.3015 - val_accuracy: 0.9285\n",
      "Epoch 5/10\n",
      "457/457 [==============================] - 14s 30ms/step - loss: 0.1343 - accuracy: 0.9687 - val_loss: 0.3530 - val_accuracy: 0.9250\n",
      "Epoch 6/10\n",
      "457/457 [==============================] - 14s 30ms/step - loss: 0.1146 - accuracy: 0.9743 - val_loss: 0.4006 - val_accuracy: 0.9280\n",
      "Epoch 7/10\n",
      "457/457 [==============================] - 14s 30ms/step - loss: 0.0991 - accuracy: 0.9775 - val_loss: 0.5093 - val_accuracy: 0.9110\n",
      "Epoch 8/10\n",
      "457/457 [==============================] - 14s 31ms/step - loss: 0.0841 - accuracy: 0.9820 - val_loss: 0.4392 - val_accuracy: 0.9102\n",
      "Epoch 9/10\n",
      "457/457 [==============================] - 14s 31ms/step - loss: 0.0675 - accuracy: 0.9846 - val_loss: 0.4424 - val_accuracy: 0.9184\n",
      "Epoch 10/10\n",
      "457/457 [==============================] - 14s 31ms/step - loss: 0.0586 - accuracy: 0.9869 - val_loss: 0.4966 - val_accuracy: 0.9014\n"
     ]
    }
   ],
   "source": [
    "history = model.fit(train_padded, y_train, epochs=10,  validation_data=(test_padded, y_test), validation_steps=30)"
   ]
  },
  {
   "cell_type": "code",
   "execution_count": 221,
   "metadata": {
    "execution": {
     "iopub.execute_input": "2020-09-30T15:06:55.403161Z",
     "iopub.status.busy": "2020-09-30T15:06:55.402340Z",
     "iopub.status.idle": "2020-09-30T15:06:55.814266Z",
     "shell.execute_reply": "2020-09-30T15:06:55.813616Z"
    },
    "papermill": {
     "duration": 4.352264,
     "end_time": "2020-09-30T15:06:55.814433",
     "exception": false,
     "start_time": "2020-09-30T15:06:51.462169",
     "status": "completed"
    },
    "tags": []
   },
   "outputs": [
    {
     "name": "stdout",
     "output_type": "stream",
     "text": [
      "(1, 90)\n",
      "[[0. 0. 1.]]\n"
     ]
    }
   ],
   "source": [
    "\n",
    "def get_encode(x):\n",
    "  #x = clean_text(x)\n",
    "  x = tokenizer.texts_to_sequences(x)\n",
    "  x = tf.keras.preprocessing.sequence.pad_sequences(x, maxlen=max_length, padding='pre', truncating='pre')\n",
    "  return x\n",
    "\n",
    "test_comment = ['This movie depicted the current society issues so well, I loved it so much']\n",
    "\n",
    "seq = tokenizer.texts_to_sequences(test_comment)\n",
    "padded = pad_sequences(seq, maxlen=max_length, padding='pre', truncating='pre')\n",
    "print(padded.shape)\n",
    "y_pred = model.predict(padded).round()\n",
    "print(y_pred)"
   ]
  },
  {
   "cell_type": "code",
   "execution_count": 222,
   "metadata": {},
   "outputs": [
    {
     "data": {
      "image/png": "[encoded data removed]",
      "text/plain": [
       "<Figure size 432x288 with 1 Axes>"
      ]
     },
     "metadata": {
      "needs_background": "light"
     },
     "output_type": "display_data"
    },
    {
     "data": {
      "image/png": "[encoded data removed]",
      "text/plain": [
       "<Figure size 432x288 with 1 Axes>"
      ]
     },
     "metadata": {
      "needs_background": "light"
     },
     "output_type": "display_data"
    }
   ],
   "source": [
    "accuracy = history.history['accuracy']\n",
    "val_accuracy = history.history['val_accuracy']\n",
    "loss = history.history['loss']\n",
    "val_loss = history.history['val_loss']\n",
    "epochs = range(len(accuracy))\n",
    "plt.plot(epochs, accuracy, '-', color='orange', label='training accuracy')\n",
    "plt.plot(epochs, val_accuracy, '-', color='blue', label='validation accuracy')\n",
    "plt.title('Training and validation accuracy')\n",
    "plt.legend()\n",
    "plt.show()\n",
    "\n",
    "plt.plot(epochs, loss, '-', color='orange', label='training Loss')\n",
    "plt.plot(epochs, val_loss,  '-', color='blue', label='validation Loss')\n",
    "plt.title('Training and validation loss')\n",
    "plt.legend()\n",
    "plt.show()"
   ]
  }
 ],
 "metadata": {
  "kernelspec": {
   "display_name": "Python 3",
   "language": "python",
   "name": "python3"
  },
  "language_info": {
   "codemirror_mode": {
    "name": "ipython",
    "version": 3
   },
   "file_extension": ".py",
   "mimetype": "text/x-python",
   "name": "python",
   "nbconvert_exporter": "python",
   "pygments_lexer": "ipython3",
   "version": "3.9.7"
  },
  "papermill": {
   "duration": 938.509212,
   "end_time": "2020-09-30T15:06:59.803198",
   "environment_variables": {},
   "exception": null,
   "input_path": "__notebook__.ipynb",
   "output_path": "__notebook__.ipynb",
   "parameters": {},
   "start_time": "2020-09-30T14:51:21.293986",
   "version": "2.1.0"
  }
 },
 "nbformat": 4,
 "nbformat_minor": 4
}
